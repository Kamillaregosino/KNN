{
 "cells": [
  {
   "cell_type": "markdown",
   "id": "d14c3995",
   "metadata": {},
   "source": [
    "# 💡 Criação do Algoritmo KNN no zero\n",
    "\n",
    "## O objetivo é entender como funciona o algoritmo por trás, realizando o passo a passo."
   ]
  },
  {
   "cell_type": "markdown",
   "id": "adb2288c",
   "metadata": {},
   "source": [
    "# Classificação"
   ]
  },
  {
   "cell_type": "code",
   "execution_count": 1,
   "id": "e14a293c",
   "metadata": {},
   "outputs": [
    {
     "name": "stdout",
     "output_type": "stream",
     "text": [
      "Classe prevista: [0]\n"
     ]
    }
   ],
   "source": [
    "import numpy as np\n",
    "from collections import Counter\n",
    "import matplotlib.pyplot as plt\n",
    "from sklearn.model_selection import train_test_split\n",
    "from sklearn.metrics import mean_squared_error, r2_score\n",
    "\n",
    "class KNNClassifier:\n",
    "    def __init__(self, k=3, normalize=True):\n",
    "        self.k = k\n",
    "        self.normalize = normalize\n",
    "\n",
    "    def fit(self, X_train, y_train):\n",
    "        self.X_train = np.array(X_train)\n",
    "        self.y_train = np.array(y_train)\n",
    "        \n",
    "        if self.normalize:\n",
    "            self.mean = self.X_train.mean(axis=0)\n",
    "            self.std = self.X_train.std(axis=0) + 1e-8  # evita divisão por zero\n",
    "            self.X_train = (self.X_train - self.mean) / self.std\n",
    "\n",
    "    def _euclidean_distance(self, x1, x2):\n",
    "        return np.sqrt(np.sum((x1 - x2) ** 2))\n",
    "\n",
    "    def predict(self, X_test):\n",
    "        X_test = np.array(X_test)\n",
    "        if self.normalize:\n",
    "            X_test = (X_test - self.mean) / self.std\n",
    "\n",
    "        predictions = []\n",
    "        all_k_indices = []\n",
    "        for x in X_test:\n",
    "            distances = [self._euclidean_distance(x, x_train) for x_train in self.X_train]\n",
    "            k_indices = np.argsort(distances)[:self.k]\n",
    "            k_nearest_labels = [self.y_train[i] for i in k_indices]\n",
    "            majority_vote = Counter(k_nearest_labels).most_common(1)[0][0]\n",
    "            predictions.append(majority_vote)\n",
    "            all_k_indices.append(k_indices)\n",
    "        return predictions, all_k_indices\n",
    "\n",
    "\n",
    "X_train = [[1, 100], [2, 200], [3, 300], [4, 1000]]\n",
    "y_train = [0, 0, 1, 1]\n",
    "\n",
    "X_test = [[2.5, 250]]\n",
    "\n",
    "knn = KNNClassifier(k=3, normalize=True)\n",
    "knn.fit(X_train, y_train)\n",
    "pred = knn.predict(X_test)\n",
    "\n",
    "print(\"Classe prevista:\", pred[0])"
   ]
  },
  {
   "cell_type": "markdown",
   "id": "ca053e14",
   "metadata": {},
   "source": [
    "# Regressão"
   ]
  },
  {
   "cell_type": "code",
   "execution_count": 2,
   "id": "b410d437",
   "metadata": {},
   "outputs": [
    {
     "name": "stdout",
     "output_type": "stream",
     "text": [
      "MSE: 3.540243924525496\n",
      "R²: 0.9035054752689758\n"
     ]
    }
   ],
   "source": [
    "class KNNRegressor:\n",
    "    def __init__(self, k=3):\n",
    "        self.k = k\n",
    "\n",
    "    def fit(self, X_train, y_train):\n",
    "        self.X_train = np.array(X_train)\n",
    "        self.y_train = np.array(y_train)\n",
    "\n",
    "    def _euclidean_distance(self, x1, x2):\n",
    "        return np.linalg.norm(x1 - x2)\n",
    "\n",
    "    def predict(self, X_test):\n",
    "        predictions = []\n",
    "        for x in X_test:\n",
    "            distances = [self._euclidean_distance(x, x_train) for x_train in self.X_train]\n",
    "            k_indices = np.argsort(distances)[:self.k]\n",
    "            values = [self.y_train[i] for i in k_indices]\n",
    "            predictions.append(np.mean(values))  # média para regressão\n",
    "        return predictions\n",
    "\n",
    "np.random.seed(42)\n",
    "X = np.random.rand(100, 1) * 10     # valores entre 0 e 10\n",
    "y = 2 * X.squeeze() + np.random.randn(100) * 2  # y = 2x + ruído\n",
    "\n",
    "# Separando treino e teste\n",
    "from sklearn.model_selection import train_test_split\n",
    "X_train, X_test, y_train, y_test = train_test_split(X, y, test_size=0.2, random_state=42)\n",
    "\n",
    "knn_reg = KNNRegressor(k=5)\n",
    "knn_reg.fit(X_train, y_train)\n",
    "\n",
    "# Fazer previsões\n",
    "y_pred = knn_reg.predict(X_test)\n",
    "\n",
    "# Avaliação do modelo\n",
    "print(\"MSE:\", mean_squared_error(y_test, y_pred))\n",
    "print(\"R²:\", r2_score(y_test, y_pred))\n"
   ]
  }
 ],
 "metadata": {
  "kernelspec": {
   "display_name": "base",
   "language": "python",
   "name": "python3"
  },
  "language_info": {
   "codemirror_mode": {
    "name": "ipython",
    "version": 3
   },
   "file_extension": ".py",
   "mimetype": "text/x-python",
   "name": "python",
   "nbconvert_exporter": "python",
   "pygments_lexer": "ipython3",
   "version": "3.9.21"
  }
 },
 "nbformat": 4,
 "nbformat_minor": 5
}
