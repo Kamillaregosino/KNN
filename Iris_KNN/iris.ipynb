{
 "cells": [
  {
   "cell_type": "markdown",
   "id": "c07a8123",
   "metadata": {},
   "source": [
    "# 🌼 Dataset Iris e KNN"
   ]
  },
  {
   "cell_type": "code",
   "execution_count": null,
   "id": "292208a7",
   "metadata": {},
   "outputs": [],
   "source": [
    "from sklearn.datasets import load_iris\n",
    "from sklearn.model_selection import train_test_split, cross_val_score\n",
    "from sklearn.preprocessing import StandardScaler\n",
    "from sklearn.neighbors import KNeighborsClassifier\n",
    "from sklearn.metrics import confusion_matrix, classification_report\n",
    "\n"
   ]
  }
 ],
 "metadata": {
  "kernelspec": {
   "display_name": "base",
   "language": "python",
   "name": "python3"
  },
  "language_info": {
   "name": "python",
   "version": "3.9.21"
  }
 },
 "nbformat": 4,
 "nbformat_minor": 5
}
